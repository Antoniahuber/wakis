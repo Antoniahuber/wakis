{
 "cells": [
  {
   "cell_type": "markdown",
   "metadata": {},
   "source": [
    "### Wakefield simulation of accelerator cavity with `wakis`\n",
    "\n",
    "* EM Simulation of a lossy cylindrical accelerator cavity up to a partially decayed wake\n",
    "* Calculation of the longitudinal wake potential and impedance of partially decayed and:\n",
    "    * Partially decayed to fully decayed impedance with [IDDEFIX](https://github.com/ImpedanCEI/IDDEFIX) Differential Evolution algorithm\n",
    "    * Extrapolation of partially decayed wake to fully decayed with [IDDEFIX](https://github.com/ImpedanCEI/IDDEFIX) Resonator formalism\n",
    "* Plotting of the results"
   ]
  },
  {
   "cell_type": "code",
   "execution_count": 1,
   "metadata": {},
   "outputs": [],
   "source": [
    "import numpy as np\n",
    "import pyvista as pv\n",
    "import matplotlib.pyplot as plt\n",
    "\n",
    "from wakis import SolverFIT3D\n",
    "from wakis import GridFIT3D \n",
    "from wakis import WakeSolver\n",
    "\n",
    "%matplotlib ipympl"
   ]
  },
  {
   "cell_type": "markdown",
   "metadata": {},
   "source": [
    "### Domain setup and grid generation"
   ]
  },
  {
   "cell_type": "markdown",
   "metadata": {},
   "source": [
    "Wakis will import the geometry files stored in `.stl` format and generate a grid with the number of mesh cells selected by the user `Nx`, `Ny`, `Nz`. The same geometry as example `002_Wakefield_simulation.ipynb` will be used, and futher details on the simulation and visualization can be found there."
   ]
  },
  {
   "cell_type": "code",
   "execution_count": null,
   "metadata": {},
   "outputs": [],
   "source": [
    "# ---------- Domain setup ---------\n",
    "# Read geometry -change path if errors are found!\n",
    "stl_cavity = 'notebooks/data/002_vacuum_cavity.stl' \n",
    "stl_shell = 'notebooks/data/002_lossymetal_shell.stl'\n",
    "\n",
    "# Set up geometry & materials dictionaries\n",
    "stl_solids = {'cavity': stl_cavity, 'shell': stl_shell}\n",
    "stl_materials = {'cavity': 'vacuum', 'shell': [30, 1.0, 30]}\n",
    "\n",
    "# Domain bounds\n",
    "surf = pv.read(stl_shell) + pv.read(stl_cavity)\n",
    "xmin, xmax, ymin, ymax, zmin, zmax = surf.bounds\n",
    "Lx, Ly, Lz = (xmax-xmin), (ymax-ymin), (zmax-zmin)\n",
    "\n",
    "# Number of mesh cells\n",
    "Nx = 80\n",
    "Ny = 80\n",
    "Nz = 141\n",
    "#dt = 2.187760221e-12 # like CST\n",
    "\n",
    "# set grid and geometry\n",
    "grid = GridFIT3D(xmin, xmax, ymin, ymax, zmin, zmax, Nx, Ny, Nz, \n",
    "                stl_solids=stl_solids, \n",
    "                stl_materials=stl_materials,\n",
    "                stl_scale=1.0)"
   ]
  },
  {
   "cell_type": "markdown",
   "metadata": {},
   "source": [
    "### Boundary conditions and EM solver"
   ]
  },
  {
   "cell_type": "code",
   "execution_count": null,
   "metadata": {},
   "outputs": [],
   "source": [
    "# boundary conditions\n",
    "bc_low=['pec', 'pec', 'pec']\n",
    "bc_high=['pec', 'pec', 'pec']\n",
    "\n",
    "solver = SolverFIT3D(grid, \n",
    "                     bc_low=bc_low, bc_high=bc_high, \n",
    "                     use_stl=True, bg='pec')"
   ]
  },
  {
   "cell_type": "markdown",
   "metadata": {},
   "source": [
    "### Wakefield settings & Run"
   ]
  },
  {
   "cell_type": "markdown",
   "metadata": {},
   "source": [
    "The wakefield simulation will run up to 10 m which will give a partially decayed wake and a non-converged impedance - this will be the starting point of IDDEFIX extrapolation !"
   ]
  },
  {
   "cell_type": "code",
   "execution_count": 9,
   "metadata": {},
   "outputs": [],
   "source": [
    "# ------------ Beam source ----------------\n",
    "# Beam parameters\n",
    "sigmaz = 10e-2      #[m] -> 2 GHz\n",
    "q = 1e-9            #[C]\n",
    "beta = 1.0          # beam beta \n",
    "xs = 0.             # x source position [m]\n",
    "ys = 0.             # y source position [m]\n",
    "xt = 0.             # x test position [m]\n",
    "yt = 0.             # y test position [m]\n",
    "# [DEFAULT] tinj = 8.53*sigmaz/c_light  # injection time offset [s] \n",
    "\n",
    "\n",
    "# ----------- Solver  setup  ----------\n",
    "# Wakefield post-processor\n",
    "wakelength = 10. # [m] -> Partially decayed\n",
    "add_space = 10   # no. cells\n",
    "\n",
    "wake = WakeSolver(q=q, sigmaz=sigmaz, beta=beta,\n",
    "                xsource=xs, ysource=ys, xtest=xt, ytest=yt,\n",
    "                add_space=add_space,\n",
    "                results_folder='results/',\n",
    "                Ez_file='results/001_Ez.h5',)"
   ]
  },
  {
   "cell_type": "markdown",
   "metadata": {},
   "source": [
    "The cell bellow will run the wakefield simulation with the defined beam source and wakelength "
   ]
  },
  {
   "cell_type": "code",
   "execution_count": null,
   "metadata": {},
   "outputs": [],
   "source": [
    "solver.wakesolve(wakelength=wakelength, \n",
    "                 wake=wake, \n",
    "                 add_space=add_space,\n",
    "                 plot=False)"
   ]
  },
  {
   "cell_type": "markdown",
   "metadata": {},
   "source": [
    "It's done! Now we can plot the results:"
   ]
  },
  {
   "cell_type": "code",
   "execution_count": null,
   "metadata": {},
   "outputs": [],
   "source": [
    "fig, ax = plt.subplots(1,2, figsize=[8,4], dpi=100)\n",
    "ax[0].plot(wake.s*1e2, wake.WP, c='r', lw=1.5, label='Wakis')\n",
    "ax[0].set_xlabel('s [cm]')\n",
    "ax[0].set_ylabel('Longitudinal wake potential [V/pC]', color='r')\n",
    "\n",
    "ax[1].plot(wake.f*1e-9, np.abs(wake.Z), c='b', lw=1.5, label='Wakis')\n",
    "ax[1].set_xlabel('f [GHz]')\n",
    "ax[1].set_ylabel('Longitudinal impedance [Abs][$\\Omega$]', color='b')\n",
    "\n",
    "fig.tight_layout()"
   ]
  },
  {
   "cell_type": "markdown",
   "metadata": {},
   "source": [
    "## Partial to Fully decayed impedance with IDDEFIX"
   ]
  },
  {
   "cell_type": "markdown",
   "metadata": {},
   "source": [
    "The [IDDEFIX](https://github.com/ImpedanCEI/IDDEFIX) (Impedance Determination through Differential Evolution FItting and eXtrapolation) python package will take the partially decayed wake and give back the fully decayed wake using the **Resonator formalism** and **Diferential Evolution's** algorithms powered with `scipy`"
   ]
  },
  {
   "cell_type": "code",
   "execution_count": null,
   "metadata": {},
   "outputs": [],
   "source": []
  }
 ],
 "metadata": {
  "kernelspec": {
   "display_name": "wakis-env",
   "language": "python",
   "name": "python3"
  },
  "language_info": {
   "codemirror_mode": {
    "name": "ipython",
    "version": 3
   },
   "file_extension": ".py",
   "mimetype": "text/x-python",
   "name": "python",
   "nbconvert_exporter": "python",
   "pygments_lexer": "ipython3",
   "version": "3.11.11"
  }
 },
 "nbformat": 4,
 "nbformat_minor": 2
}

{
 "cells": [
  {
   "cell_type": "markdown",
   "metadata": {},
   "source": [
    "### MPI setup\n",
    "* `ipyparallel` is used to start an IPython kernel \n",
    "* `mpi4py` is used like in regular `.py` scripts to handle MPI communication"
   ]
  },
  {
   "cell_type": "code",
   "execution_count": null,
   "metadata": {},
   "outputs": [],
   "source": [
    "import ipyparallel as ipp\n",
    "cluster = ipp.Cluster(engines=\"mpi\", n=4).start_and_connect_sync()"
   ]
  },
  {
   "cell_type": "code",
   "execution_count": null,
   "metadata": {},
   "outputs": [],
   "source": [
    "%%px\n",
    "# If multi-GPU\n",
    "import os\n",
    "os.environ['OMPI_MCA_opal_cuda_support']='true'"
   ]
  },
  {
   "cell_type": "code",
   "execution_count": null,
   "metadata": {},
   "outputs": [],
   "source": [
    "%%px\n",
    "from mpi4py import MPI\n",
    "comm = MPI.COMM_WORLD\n",
    "rank = comm.Get_rank()\n",
    "size = comm.Get_size()\n",
    "print(f\"Process {rank} of {size} is running\")\n",
    "\n",
    "# If multi-GPU\n",
    "import cupy\n",
    "cupy.cuda.Device(rank).use()"
   ]
  },
  {
   "cell_type": "markdown",
   "metadata": {},
   "source": [
    "Import packages as usual, now starting with the magic `%%px` to execute it in all MPI ranks"
   ]
  },
  {
   "cell_type": "code",
   "execution_count": null,
   "metadata": {},
   "outputs": [],
   "source": [
    "%%px\n",
    "import os\n",
    "import numpy as np\n",
    "import pyvista as pv\n",
    "import matplotlib.pyplot as plt\n",
    "from mpl_toolkits.axes_grid1 import make_axes_locatable\n",
    "\n",
    "from wakis import SolverFIT3D\n",
    "from wakis import GridFIT3D \n",
    "from wakis import WakeSolver\n",
    "\n",
    "from tqdm import tqdm"
   ]
  },
  {
   "cell_type": "markdown",
   "metadata": {},
   "source": [
    "### Domain setup:\n",
    "* __Capital variables__ are used as a convention to designate GLOBAL domain quantities: `NZ`, `ZMIN`, `ZMAX`\n",
    "* __Lower case variables__ `Nz`, `zmin`, `zmax` will be associated to MPI subdomains and will be different for each `rank`. \n",
    "    * This quantities will be computed inside `GridFIT3D` when `use_mpi=True`"
   ]
  },
  {
   "cell_type": "code",
   "execution_count": null,
   "metadata": {},
   "outputs": [],
   "source": [
    "%%px\n",
    "# ---------- Domain setup ---------\n",
    "# Geometry & Materials\n",
    "solid_1 = 'notebooks/data/002_vacuum_cavity.stl'\n",
    "solid_2 = 'notebooks/data/002_lossymetal_shell.stl'\n",
    "\n",
    "stl_solids = {'cavity': solid_1, \n",
    "              'shell': solid_2\n",
    "              }\n",
    "\n",
    "stl_materials = {'cavity': 'vacuum', \n",
    "                 'shell': [30, 1.0, 30] #[eps_r, mu_r, sigma[S/m]]\n",
    "                 }\n",
    "\n",
    "# Extract domain bounds from geometry\n",
    "solids = pv.read(solid_1) + pv.read(solid_2)\n",
    "xmin, xmax, ymin, ymax, ZMIN, ZMAX = solids.bounds\n",
    "\n",
    "# Number of mesh cells\n",
    "Nx = 80\n",
    "Ny = 80\n",
    "NZ = 141"
   ]
  },
  {
   "cell_type": "code",
   "execution_count": null,
   "metadata": {},
   "outputs": [],
   "source": [
    "%%px\n",
    "grid = GridFIT3D(xmin, xmax, ymin, ymax, ZMIN, ZMAX, \n",
    "                Nx, Ny, NZ, \n",
    "                use_mpi = True,\n",
    "                stl_solids=stl_solids, \n",
    "                stl_materials=stl_materials,\n",
    "                stl_scale=1.0,\n",
    "                stl_rotate=[0,0,0],\n",
    "                stl_translate=[0,0,0],\n",
    "                verbose=1)\n",
    "                \n",
    "print(f\"Process {rank}: Handling Z range {grid.zmin} to {grid.zmax} with {grid.Nz} cells\")"
   ]
  },
  {
   "cell_type": "markdown",
   "metadata": {},
   "source": [
    "### Solver definition\n",
    "* We define our solver as for a non-MPI simulation, just passing `use_mpi=True`"
   ]
  },
  {
   "cell_type": "code",
   "execution_count": null,
   "metadata": {},
   "outputs": [],
   "source": [
    "%%px\n",
    "# boundary conditions\n",
    "bc_low=['pec', 'pec', 'pec']\n",
    "bc_high=['pec', 'pec', 'pec']\n",
    "\n",
    "# Solver setup\n",
    "solver = SolverFIT3D(grid,\n",
    "                    bc_low=bc_low, \n",
    "                    bc_high=bc_high, \n",
    "                    use_stl=True,\n",
    "                    use_mpi=True, \n",
    "                    bg='pec' # Background material\n",
    "                    )\n",
    "\n",
    "# image folder creation\n",
    "img_folder = 'notebooks/005_img/'\n",
    "if not os.path.exists(img_folder): \n",
    "    os.mkdir(img_folder)"
   ]
  },
  {
   "cell_type": "markdown",
   "metadata": {},
   "source": [
    "We can visualize our conductivity tensor $\\sigma$ for each rank subdomain:"
   ]
  },
  {
   "cell_type": "code",
   "execution_count": null,
   "metadata": {},
   "outputs": [],
   "source": [
    "%%px\n",
    "for n in range(size):\n",
    "    if rank==n:\n",
    "        solver.sigma.inspect()"
   ]
  },
  {
   "cell_type": "markdown",
   "metadata": {},
   "source": [
    "## Custom Time loop with on-the-fly plotting\n",
    "* We can run our simulation as usual, only changing the field advance to `mpi_one_step()`"
   ]
  },
  {
   "cell_type": "markdown",
   "metadata": {},
   "source": [
    "We generate our beam source as per a non-MPI simulation:"
   ]
  },
  {
   "cell_type": "code",
   "execution_count": null,
   "metadata": {},
   "outputs": [],
   "source": [
    "%%px\n",
    "# ------------ Beam source & Wake ----------------\n",
    "# Beam parameters\n",
    "sigmaz = 10e-2      #[m] -> 2 GHz\n",
    "q = 1e-9            #[C]\n",
    "beta = 1.0          # beam beta \n",
    "xs = 0.             # x source position [m]\n",
    "ys = 0.             # y source position [m]\n",
    "xt = 0.             # x test position [m]\n",
    "yt = 0.             # y test position [m]\n",
    "# [DEFAULT] tinj = 8.53*sigmaz/c_light  # injection time offset [s] \n",
    "\n",
    "# Simualtion\n",
    "wakelength = 10. # [m]\n",
    "add_space = 10   # no. cells to skip from boundaries - removes BC artifacts\n",
    "\n",
    "from wakis.sources import Beam\n",
    "from scipy.constants import c\n",
    "beam = Beam(q=q, sigmaz=sigmaz, beta=beta,\n",
    "            xsource=xs, ysource=ys, ti=3*sigmaz/c)"
   ]
  },
  {
   "cell_type": "code",
   "execution_count": null,
   "metadata": {},
   "outputs": [],
   "source": [
    "%%px\n",
    "n = 0\n",
    "solver.reset_fields()\n",
    "\n",
    "plot_inspect = False\n",
    "plot_2D = False\n",
    "plot_1D = False"
   ]
  },
  {
   "cell_type": "code",
   "execution_count": null,
   "metadata": {},
   "outputs": [],
   "source": [
    "%%px\n",
    "Nt = 3000\n",
    "for n in tqdm(range(Nt)):\n",
    "    \n",
    "    beam.update(solver, n*solver.dt)\n",
    "\n",
    "    solver.mpi_one_step()\n",
    "    \n",
    "    # Plot inspect every 20 timesteps\n",
    "    if n%20 == 0 and plot_inspect:\n",
    "        E = solver.mpi_gather_asField('E')\n",
    "        if rank == 0:\n",
    "            fig, ax = E.inspect(figsize=[20,6], plane='YZ', show=False, handles=True)\n",
    "            fig.savefig(img_folder+'Einspect_'+str(n).zfill(4)+'.png')\n",
    "            plt.close(fig)\n",
    "\n",
    "    # Plot E abs in 2D every 20 timesteps\n",
    "    if n%20 == 0 and plot_2D:\n",
    "        solver.plot2D(field='E', component='Abs', \n",
    "                    plane='YZ', pos=0.5, \n",
    "                    cmap='rainbow', vmin=0, vmax=500., interpolation='hanning',\n",
    "                    off_screen=True, title=img_folder+'Ez2d', n=n)\n",
    "\n",
    "    # Plot E z in 1D at diferent transverse positions `pos` every 20 timesteps\n",
    "    if n%20 == 0 and plot_1D:\n",
    "        solver.plot1D(field='E', component='z', \n",
    "              line='z', pos=[0.45, 0.5, 0.55], ylim=(-800, 800),\n",
    "              xscale='linear', yscale='linear',\n",
    "              off_screen=True, title=img_folder+'Ez1d', n=n)"
   ]
  },
  {
   "cell_type": "markdown",
   "metadata": {},
   "source": [
    "### Post-processing\n",
    "* We can generate a `GIF` animation from a notebook cell and display it in the notebook:"
   ]
  },
  {
   "cell_type": "code",
   "execution_count": null,
   "metadata": {},
   "outputs": [],
   "source": [
    "!convert -delay 10 -loop 0 notebooks/005_img/E*.png notebooks/005_img/005_E.gif\n",
    "!rm notebooks/005_img/E*.png"
   ]
  },
  {
   "cell_type": "code",
   "execution_count": null,
   "metadata": {},
   "outputs": [],
   "source": [
    "from IPython.display import HTML\n",
    "HTML('<img src=\"005_img/005_E.gif\">')"
   ]
  },
  {
   "cell_type": "markdown",
   "metadata": {},
   "source": [
    "* We can also plot the last timestep's fields `E`, `H` or `J`"
   ]
  },
  {
   "cell_type": "code",
   "execution_count": null,
   "metadata": {},
   "outputs": [],
   "source": [
    "%%px\n",
    "solver.plot1D(field='E', component='z', \n",
    "              line='z', pos=[0.45, 0.5, 0.55], ylim=(-800, 800),\n",
    "              xscale='linear', yscale='linear',\n",
    "              off_screen=False, title=img_folder+'Ez1d', n=n)"
   ]
  },
  {
   "cell_type": "code",
   "execution_count": null,
   "metadata": {},
   "outputs": [],
   "source": [
    "%%px\n",
    "solver.plot2D(field='E', component='y', \n",
    "            plane='YZ', pos=0.5, \n",
    "            cmap='bwr', vmin=-300, vmax=300., interpolation='hanning',\n",
    "            off_screen=False, title=img_folder+'Ez2d', n=n)"
   ]
  },
  {
   "cell_type": "code",
   "execution_count": null,
   "metadata": {},
   "outputs": [],
   "source": [
    "%%px\n",
    "#gathers H field as a Field object to rank=0\n",
    "H = solver.mpi_gather_asField('H') \n",
    "\n",
    "# only plot in rank 0 where H has been gathered\n",
    "if rank == 0: \n",
    "    fig, ax = H.inspect(figsize=[20,6], cmap='seismic', plane='YZ', show=False, handles=True)\n",
    "    plt.show()"
   ]
  },
  {
   "cell_type": "markdown",
   "metadata": {},
   "source": [
    "## Wakefield simulation"
   ]
  },
  {
   "cell_type": "code",
   "execution_count": null,
   "metadata": {},
   "outputs": [],
   "source": [
    "%%px\n",
    "n = 0\n",
    "solver.reset_fields()"
   ]
  },
  {
   "cell_type": "markdown",
   "metadata": {},
   "source": [
    "First we need to set up the wake object:"
   ]
  },
  {
   "cell_type": "code",
   "execution_count": null,
   "metadata": {},
   "outputs": [],
   "source": [
    "%%px\n",
    "# ------------ Beam source ----------------\n",
    "# Beam parameters\n",
    "sigmaz = 10e-2      #[m] -> 2 GHz\n",
    "q = 1e-9            #[C]\n",
    "beta = 1.0          # beam beta \n",
    "xs = 0.             # x source position [m]\n",
    "ys = 0.             # y source position [m]\n",
    "xt = 0.             # x test position [m]\n",
    "yt = 0.             # y test position [m]\n",
    "# [DEFAULT] tinj = 8.53*sigmaz/c_light  # injection time offset [s] \n",
    "\n",
    "\n",
    "# ----------- Solver  setup  ----------\n",
    "# Wakefield post-processor\n",
    "wakelength = 10. # [m] -> Partially decayed\n",
    "skip_cells = 10   # no. cells to skip at zlo/zhi for wake integration\n",
    "results_folder = '005_results/'\n",
    "wake = WakeSolver(q=q, sigmaz=sigmaz, beta=beta,\n",
    "                xsource=xs, ysource=ys, xtest=xt, ytest=yt,\n",
    "                skip_cells=10,\n",
    "                results_folder=results_folder,\n",
    "                Ez_file=results_folder+'Ez.h5',)"
   ]
  },
  {
   "cell_type": "markdown",
   "metadata": {},
   "source": [
    "Now we can run the wakefield simulation by doing:"
   ]
  },
  {
   "cell_type": "code",
   "execution_count": null,
   "metadata": {},
   "outputs": [],
   "source": [
    "%%px\n",
    "solver.wakesolve(wakelength=wakelength, \n",
    "                 wake=wake, \n",
    "                 plot=False)"
   ]
  },
  {
   "cell_type": "code",
   "execution_count": null,
   "metadata": {},
   "outputs": [],
   "source": [
    "%%px\n",
    "if solver.rank == 0:\n",
    "    fig, ax = plt.subplots(1,2, figsize=[14,4], dpi=100)\n",
    "    ax[0].plot(wake.s*1e2, wake.WP, c='r', lw=1.5, label='Wakis')\n",
    "    ax[0].set_xlabel('s [cm]')\n",
    "    ax[0].set_ylabel('Longitudinal wake potential [V/pC]', color='r')\n",
    "\n",
    "    ax[1].plot(wake.f*1e-9, np.abs(wake.Z), c='b', lw=1.5, label='Wakis')\n",
    "    ax[1].set_xlabel('f [GHz]')\n",
    "    ax[1].set_ylabel('Longitudinal impedance [Abs][$\\Omega$]', color='b')\n",
    "\n",
    "    fig.tight_layout()"
   ]
  },
  {
   "cell_type": "markdown",
   "metadata": {},
   "source": [
    "### Extrapolating to fully decayed impedance with `iddefix`"
   ]
  },
  {
   "cell_type": "code",
   "execution_count": null,
   "metadata": {},
   "outputs": [],
   "source": [
    "import numpy as np\n",
    "import matplotlib.pyplot as plt\n",
    "import iddefix\n",
    "\n",
    "from wakis import WakeSolver\n",
    "from scipy.constants import c"
   ]
  },
  {
   "cell_type": "markdown",
   "metadata": {},
   "source": [
    "Load previously computed results:"
   ]
  },
  {
   "cell_type": "code",
   "execution_count": null,
   "metadata": {},
   "outputs": [],
   "source": [
    "results_folder='results'\n",
    "wake = WakeSolver()\n",
    "wake.load_results(results_folder)"
   ]
  },
  {
   "cell_type": "code",
   "execution_count": null,
   "metadata": {},
   "outputs": [],
   "source": [
    "# We can recompute the impedance with less samples to increase the EA speed\n",
    "wake.calc_long_Z(samples=1001, fmax=1.2e9)"
   ]
  },
  {
   "cell_type": "code",
   "execution_count": null,
   "metadata": {},
   "outputs": [],
   "source": [
    "# get bounds for the Differential Evolution fitting\n",
    "bounds = wake.get_SmartBounds(freq_data=wake.f, impedance_data=wake.Z,\n",
    "                        minimum_peak_height=330, distance=20, inspect_bounds=True,\n",
    "                        Rs_bounds=[0.8, 10], Q_bounds=[0.5, 5], fres_bounds=[-0.01e9, +0.01e9]\n",
    "                        )"
   ]
  },
  {
   "cell_type": "markdown",
   "metadata": {},
   "source": [
    "Run the differential evolution:"
   ]
  },
  {
   "cell_type": "code",
   "execution_count": null,
   "metadata": {},
   "outputs": [],
   "source": [
    "DE_model = wake.get_DEmodel_fitting(freq_data=wake.f, impedance_data=wake.Z, \n",
    "                                    plane='longitudinal', dim='z', \n",
    "                                    parameterBounds=bounds.parameterBounds, N_resonators=bounds.N_resonators, \n",
    "                                    DE_kernel='CMAES', maxiter=1e5, cmaes_sigma=0.01, popsize=150, tol=1e-3,\n",
    "                                    use_minimization=True, minimization_margin=[0.3, 0.2, 0.01])"
   ]
  },
  {
   "cell_type": "markdown",
   "metadata": {},
   "source": [
    "Asses the fitting done by the differential evolution:"
   ]
  },
  {
   "cell_type": "code",
   "execution_count": null,
   "metadata": {},
   "outputs": [],
   "source": [
    "#%matplotlib ipympl\n",
    "\n",
    "# Retrieve partially decayed wake potential\n",
    "WP_pd = DE_model.get_wake_potential(wake.s/c, sigma=10e-2/c, use_minimization=False)\n",
    "WP_pd_min = DE_model.get_wake_potential(wake.s/c, sigma=10e-2/c)\n",
    "\n",
    "# Retrieve partially decayed impedance\n",
    "f_pd = np.linspace(0, 1.2e9, 10000)\n",
    "Z_pd = DE_model.get_impedance_from_fitFunction(f_pd, use_minimization=False)\n",
    "Z_pd_min = DE_model.get_impedance_from_fitFunction(f_pd, use_minimization=True)\n",
    "\n",
    "fig1, ax = plt.subplots(1,2, figsize=[12,4], dpi=150)\n",
    "\n",
    "ax[0].plot(wake.s, wake.WP, c='k', alpha=0.8, label='Wakis wl=30 m')\n",
    "ax[0].plot(wake.s, -WP_pd*1e-12, c='tab:blue', alpha=0.8, lw=1.5, label='DE wake potential')\n",
    "ax[0].plot(wake.s, -WP_pd_min*1e-12, c='tab:red', alpha=0.6, lw=1.5, label='DE+min wake potential')\n",
    "ax[0].set_xlabel('s [cm]')\n",
    "ax[0].set_ylabel('Longitudinal wake potential [V/pC]', color='tab:red')\n",
    "ax[0].legend()\n",
    "\n",
    "ax[1].plot(wake.f*1e-9, np.real(wake.Z), ls='-', c='k', lw=1.5, label='Real')\n",
    "#ax[1].plot(f*1e-9, np.imag(Z), ls=':', c='k', lw=1.5, label='Imag')\n",
    "#ax[1].plot(f*1e-9, np.real(Z_pd), c='tab:blue', label='Abs')\n",
    "\n",
    "ax[1].plot(f_pd*1e-9, np.real(Z_pd), ls='-', c='tab:blue', alpha=0.8, lw=1.5, label='DE Real')\n",
    "#ax[1].plot(f_pd*1e-9, np.imag(Z_pd), ls=':', c='tab:blue', alpha=0.6, lw=1.5, label='DE Imag')\n",
    "\n",
    "ax[1].plot(f_pd*1e-9, np.real(Z_pd_min), ls='-', c='tab:red', alpha=0.6, lw=1.5, label='DE+min Real')\n",
    "\n",
    "ax[1].set_xlabel('f [GHz]')\n",
    "ax[1].set_ylabel('Longitudinal impedance [Abs][$\\Omega$]', color='tab:blue')\n",
    "ax[1].legend()\n",
    "\n",
    "fig1.tight_layout()"
   ]
  },
  {
   "cell_type": "markdown",
   "metadata": {},
   "source": [
    "Plot the fully decayed, extrapolated impedance:"
   ]
  },
  {
   "cell_type": "code",
   "execution_count": null,
   "metadata": {},
   "outputs": [],
   "source": [
    "# retrieve the wake potential, function and impedance analytically using the resonator formalism\n",
    "new_wakelength = 100 # [m]\n",
    "sigmaz = 10e-2 #[m], the one used in the simulation\n",
    "\n",
    "s, wake_potential = wake.get_extrapolated_wake(wakelength=new_wakelength, sigma=sigmaz/c, use_minimization=True)\n",
    "t, wake_function = wake.get_extrapolated_wake_function(wakelength=new_wakelength, use_minimization=True)\n",
    "f, impedance = wake.get_extrapolated_impedance(wakelength=new_wakelength, use_minimization=True)"
   ]
  },
  {
   "cell_type": "code",
   "execution_count": null,
   "metadata": {},
   "outputs": [],
   "source": [
    "fig, ax = plt.subplots(2,1, figsize=[8,8], dpi=100)\n",
    "ax[0].plot(wake.s*1e2, wake.WP, c='r', lw=1.5, label='Wakis')\n",
    "ax[0].plot(s*1e2, wake_potential, c='r', lw=3, alpha=0.5, label='Wakis DE extrapolation')\n",
    "#ax[0].plot(t*c_light*1e2, wake_function/c_light, c='grey', lw=1.5, alpha=0.5, label='Wakis DE extrapolation')\n",
    "ax[0].set_xlabel('s [cm]')\n",
    "ax[0].set_ylabel('Longitudinal wake potential [V/pC]', color='r')\n",
    "\n",
    "ax[1].plot(wake.f*1e-9, np.real(wake.Z), c='b', lw=1.5, label='Wakis - Re')\n",
    "ax[1].plot(wake.f*1e-9, np.imag(wake.Z), c='b', lw=1.5, ls='--', label='Wakis - Imag')\n",
    "\n",
    "ax[1].plot(f*1e-9, np.real(impedance), c='b', lw=3, alpha=0.5, label='Wakis DE - Re')\n",
    "ax[1].plot(f*1e-9, np.imag(impedance), c='b', lw=3, ls='--', alpha=0.5, label='Wakis DE - Imag')\n",
    "ax[1].set_xlabel('f [GHz]')\n",
    "ax[1].set_ylabel('Longitudinal impedance [Abs][$\\Omega$]', color='b')\n",
    "\n",
    "fig.tight_layout()"
   ]
  },
  {
   "cell_type": "code",
   "execution_count": null,
   "metadata": {},
   "outputs": [],
   "source": []
  }
 ],
 "metadata": {
  "kernelspec": {
   "display_name": "wakis-env",
   "language": "python",
   "name": "python3"
  },
  "language_info": {
   "codemirror_mode": {
    "name": "ipython",
    "version": 3
   },
   "file_extension": ".py",
   "mimetype": "text/x-python",
   "name": "python",
   "nbconvert_exporter": "python",
   "pygments_lexer": "ipython3",
   "version": "3.11.8"
  }
 },
 "nbformat": 4,
 "nbformat_minor": 2
}

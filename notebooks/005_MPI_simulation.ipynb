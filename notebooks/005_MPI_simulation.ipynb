{
 "cells": [
  {
   "cell_type": "code",
   "execution_count": 1,
   "metadata": {},
   "outputs": [
    {
     "name": "stdout",
     "output_type": "stream",
     "text": [
      "Starting 4 engines with <class 'ipyparallel.cluster.launcher.MPIEngineSetLauncher'>\n"
     ]
    },
    {
     "data": {
      "application/vnd.jupyter.widget-view+json": {
       "model_id": "d498e6237a3c44f2bc3b5c04370b55fc",
       "version_major": 2,
       "version_minor": 0
      },
      "text/plain": [
       "  0%|          | 0/4 [00:00<?, ?engine/s]"
      ]
     },
     "metadata": {},
     "output_type": "display_data"
    }
   ],
   "source": [
    "import ipyparallel as ipp\n",
    "cluster = ipp.Cluster(engines=\"mpi\", n=4).start_and_connect_sync()"
   ]
  },
  {
   "cell_type": "code",
   "execution_count": 2,
   "metadata": {},
   "outputs": [
    {
     "data": {
      "text/plain": [
       "[stdout:2] Process 2 of 4 is running\n"
      ]
     },
     "metadata": {},
     "output_type": "display_data"
    },
    {
     "data": {
      "text/plain": [
       "[stdout:1] Process 1 of 4 is running\n"
      ]
     },
     "metadata": {},
     "output_type": "display_data"
    },
    {
     "data": {
      "text/plain": [
       "[stdout:0] Process 0 of 4 is running\n"
      ]
     },
     "metadata": {},
     "output_type": "display_data"
    },
    {
     "data": {
      "text/plain": [
       "[stdout:3] Process 3 of 4 is running\n"
      ]
     },
     "metadata": {},
     "output_type": "display_data"
    }
   ],
   "source": [
    "%%px\n",
    "from mpi4py import MPI\n",
    "comm = MPI.COMM_WORLD\n",
    "rank = comm.Get_rank()\n",
    "size = comm.Get_size()\n",
    "print(f\"Process {rank} of {size} is running\")"
   ]
  },
  {
   "cell_type": "code",
   "execution_count": 3,
   "metadata": {},
   "outputs": [],
   "source": [
    "%%px\n",
    "import os\n",
    "import numpy as np\n",
    "import pyvista as pv\n",
    "import matplotlib.pyplot as plt\n",
    "from mpl_toolkits.axes_grid1 import make_axes_locatable\n",
    "\n",
    "from wakis import SolverFIT3D\n",
    "from wakis import GridFIT3D \n",
    "from wakis import WakeSolver\n",
    "\n",
    "from tqdm import tqdm"
   ]
  },
  {
   "cell_type": "code",
   "execution_count": 4,
   "metadata": {},
   "outputs": [
    {
     "data": {
      "text/plain": [
       "[stdout:1] Process 1: Handling Z range -0.05281689847019358 to 0.14436620305961284\n",
       "(-0.25999999046325684, 0.25999999046325684, -0.25999999046325684, 0.25999999046325684, -0.25, 0.550000011920929)\n"
      ]
     },
     "metadata": {},
     "output_type": "display_data"
    },
    {
     "data": {
      "text/plain": [
       "[stdout:0] Process 0: Handling Z range -0.25 to -0.05281689847019358\n",
       "(-0.25999999046325684, 0.25999999046325684, -0.25999999046325684, 0.25999999046325684, -0.25, 0.550000011920929)\n"
      ]
     },
     "metadata": {},
     "output_type": "display_data"
    },
    {
     "data": {
      "text/plain": [
       "[stdout:2] Process 2: Handling Z range 0.14436620305961284 to 0.34154930458941934\n",
       "(-0.25999999046325684, 0.25999999046325684, -0.25999999046325684, 0.25999999046325684, -0.25, 0.550000011920929)\n"
      ]
     },
     "metadata": {},
     "output_type": "display_data"
    },
    {
     "data": {
      "text/plain": [
       "[stdout:3] Process 3: Handling Z range 0.34154930458941934 to 0.5387324061192257\n",
       "(-0.25999999046325684, 0.25999999046325684, -0.25999999046325684, 0.25999999046325684, -0.25, 0.550000011920929)\n"
      ]
     },
     "metadata": {},
     "output_type": "display_data"
    }
   ],
   "source": [
    "%%px\n",
    "# ---------- Domain setup ---------\n",
    "\n",
    "# Geometry & Materials\n",
    "solid_1 = 'notebooks/data/002_vacuum_cavity.stl'\n",
    "solid_2 = 'notebooks/data/002_lossymetal_shell.stl'\n",
    "\n",
    "stl_solids = {'cavity': solid_1, \n",
    "              'shell': solid_2\n",
    "              }\n",
    "\n",
    "stl_materials = {'cavity': 'vacuum', \n",
    "                 'shell': [30, 1.0, 30] #[eps_r, mu_r, sigma[S/m]]\n",
    "                 }\n",
    "\n",
    "# Extract domain bounds from geometry\n",
    "solids = pv.read(solid_1) + pv.read(solid_2)\n",
    "xmin, xmax, ymin, ymax, zmin, zmax = solids.bounds\n",
    "\n",
    "# Number of mesh cells\n",
    "Nx = 80\n",
    "Ny = 80\n",
    "Nz = 141\n",
    "\n",
    "# Adjust for MPI & ompute local Z-slice range\n",
    "Nz += Nz%(size) #if rank 0 is common, then size-1\n",
    "dz = (zmax - zmin) / Nz\n",
    "z = np.linspace(zmin, zmax, Nz+1)\n",
    "\n",
    "# Allocate mpi node cells\n",
    "Nz_mpi = Nz // (size) \n",
    "zmin_mpi = rank * Nz_mpi * dz + zmin\n",
    "zmax_mpi= (rank+1) * Nz_mpi * dz + zmin\n",
    "\n",
    "print(f\"Process {rank}: Handling Z range {zmin_mpi} to {zmax_mpi}\")\n",
    "print(solids.bounds)\n"
   ]
  },
  {
   "cell_type": "code",
   "execution_count": 5,
   "metadata": {},
   "outputs": [
    {
     "data": {
      "application/vnd.jupyter.widget-view+json": {
       "model_id": "8f0006ee56c84fb29f39b33da9958bf8",
       "version_major": 2,
       "version_minor": 0
      },
      "text/plain": [
       "%px:   0%|          | 0/4 [00:00<?, ?tasks/s]"
      ]
     },
     "metadata": {},
     "output_type": "display_data"
    },
    {
     "data": {
      "text/plain": [
       "[stdout:0] Generating grid...\n",
       "Importing stl solids...\n"
      ]
     },
     "metadata": {},
     "output_type": "display_data"
    },
    {
     "data": {
      "text/plain": [
       "[stdout:3] Generating grid...\n",
       "Importing stl solids...\n"
      ]
     },
     "metadata": {},
     "output_type": "display_data"
    },
    {
     "data": {
      "text/plain": [
       "[stdout:1] Generating grid...\n",
       "Importing stl solids...\n"
      ]
     },
     "metadata": {},
     "output_type": "display_data"
    },
    {
     "data": {
      "text/plain": [
       "[stdout:2] Generating grid...\n",
       "Importing stl solids...\n"
      ]
     },
     "metadata": {},
     "output_type": "display_data"
    }
   ],
   "source": [
    "%%px\n",
    "grid = GridFIT3D(xmin, xmax, ymin, ymax, \n",
    "                zmin_mpi, zmax_mpi, \n",
    "                Nx, Ny, Nz_mpi, \n",
    "                stl_solids=stl_solids, \n",
    "                stl_materials=stl_materials,\n",
    "                stl_scale=1.0,\n",
    "                stl_rotate=[0,0,0],\n",
    "                stl_translate=[0,0,0],\n",
    "                verbose=1)"
   ]
  },
  {
   "cell_type": "code",
   "execution_count": 6,
   "metadata": {},
   "outputs": [
    {
     "data": {
      "text/plain": [
       "[stdout:3] Assembling operator matrices...\n",
       "Applying boundary conditions...\n",
       "Adding material tensors...\n",
       "Calculating maximal stable timestep...\n",
       "Pre-computing...\n",
       "Total initialization time: 0.9730184078216553 s\n"
      ]
     },
     "metadata": {},
     "output_type": "display_data"
    },
    {
     "data": {
      "text/plain": [
       "[stdout:2] Assembling operator matrices...\n",
       "Applying boundary conditions...\n",
       "Adding material tensors...\n",
       "Calculating maximal stable timestep...\n",
       "Pre-computing...\n",
       "Total initialization time: 1.046703577041626 s\n"
      ]
     },
     "metadata": {},
     "output_type": "display_data"
    },
    {
     "data": {
      "text/plain": [
       "[stdout:0] Assembling operator matrices...\n",
       "Applying boundary conditions...\n",
       "Adding material tensors...\n",
       "Calculating maximal stable timestep...\n",
       "Pre-computing...\n",
       "Total initialization time: 0.94777512550354 s\n"
      ]
     },
     "metadata": {},
     "output_type": "display_data"
    },
    {
     "data": {
      "text/plain": [
       "[stdout:1] Assembling operator matrices...\n",
       "Applying boundary conditions...\n",
       "Adding material tensors...\n",
       "Calculating maximal stable timestep...\n",
       "Pre-computing...\n",
       "Total initialization time: 1.1294543743133545 s\n"
      ]
     },
     "metadata": {},
     "output_type": "display_data"
    }
   ],
   "source": [
    "%%px\n",
    "# boundary conditions\n",
    "bc_low=['pec', 'pec', 'pec']\n",
    "bc_high=['pec', 'pec', 'pec']\n",
    "\n",
    "if rank > 0:\n",
    "    bc_low=['pec', 'pec', 'periodic']\n",
    "\n",
    "if rank < size - 1:\n",
    "    bc_high=['pec', 'pec', 'periodic']\n",
    "\n",
    "# Solver setup\n",
    "solver = SolverFIT3D(grid,\n",
    "                    bc_low=bc_low, \n",
    "                    bc_high=bc_high, \n",
    "                    use_stl=True, \n",
    "                    bg='pec' # Background material\n",
    "                    )\n",
    "\n",
    "if rank == 0:\n",
    "    img_folder = 'notebooks/005_img/'\n",
    "    if not os.path.exists(img_folder): \n",
    "        os.mkdir(img_folder)"
   ]
  },
  {
   "cell_type": "code",
   "execution_count": 7,
   "metadata": {},
   "outputs": [
    {
     "data": {
      "text/plain": [
       "[stdout:1] ['pec', 'pec', 'periodic']\n",
       "['pec', 'pec', 'periodic']\n"
      ]
     },
     "metadata": {},
     "output_type": "display_data"
    },
    {
     "data": {
      "text/plain": [
       "[stdout:2] ['pec', 'pec', 'periodic']\n",
       "['pec', 'pec', 'periodic']\n"
      ]
     },
     "metadata": {},
     "output_type": "display_data"
    },
    {
     "data": {
      "text/plain": [
       "[stdout:0] ['pec', 'pec', 'pec']\n",
       "['pec', 'pec', 'periodic']\n"
      ]
     },
     "metadata": {},
     "output_type": "display_data"
    },
    {
     "data": {
      "text/plain": [
       "[stdout:3] ['pec', 'pec', 'periodic']\n",
       "['pec', 'pec', 'pec']\n"
      ]
     },
     "metadata": {},
     "output_type": "display_data"
    },
    {
     "data": {
      "text/plain": [
       "[output:1]"
      ]
     },
     "metadata": {},
     "output_type": "display_data"
    },
    {
     "data": {
      "image/png": "[encoded data removed]",
      "text/plain": [
       "<Figure size 800x600 with 6 Axes>"
      ]
     },
     "metadata": {
      "engine": 1
     },
     "output_type": "display_data"
    },
    {
     "data": {
      "text/plain": [
       "[output:0]"
      ]
     },
     "metadata": {},
     "output_type": "display_data"
    },
    {
     "data": {
      "image/png": "[encoded data removed]",
      "text/plain": [
       "<Figure size 800x600 with 6 Axes>"
      ]
     },
     "metadata": {
      "engine": 0
     },
     "output_type": "display_data"
    },
    {
     "data": {
      "text/plain": [
       "[output:3]"
      ]
     },
     "metadata": {},
     "output_type": "display_data"
    },
    {
     "data": {
      "image/png": "[encoded data removed]",
      "text/plain": [
       "<Figure size 800x600 with 6 Axes>"
      ]
     },
     "metadata": {
      "engine": 3
     },
     "output_type": "display_data"
    },
    {
     "data": {
      "text/plain": [
       "[output:2]"
      ]
     },
     "metadata": {},
     "output_type": "display_data"
    },
    {
     "data": {
      "image/png": "[encoded data removed]",
      "text/plain": [
       "<Figure size 800x600 with 6 Axes>"
      ]
     },
     "metadata": {
      "engine": 2
     },
     "output_type": "display_data"
    }
   ],
   "source": [
    "%%px\n",
    "for n in range(size):\n",
    "    if rank==n:\n",
    "        print(solver.bc_low)\n",
    "        print(solver.bc_high)\n",
    "        solver.sigma.inspect()"
   ]
  },
  {
   "cell_type": "code",
   "execution_count": 8,
   "metadata": {},
   "outputs": [],
   "source": [
    "%%px\n",
    "# ------------ Beam source & Wake ----------------\n",
    "# Beam parameters\n",
    "sigmaz = 10e-2      #[m] -> 2 GHz\n",
    "q = 1e-9            #[C]\n",
    "beta = 1.0          # beam beta \n",
    "xs = 0.             # x source position [m]\n",
    "ys = 0.             # y source position [m]\n",
    "xt = 0.             # x test position [m]\n",
    "yt = 0.             # y test position [m]\n",
    "# [DEFAULT] tinj = 8.53*sigmaz/c_light  # injection time offset [s] \n",
    "\n",
    "# Simualtion\n",
    "wakelength = 10. # [m]\n",
    "add_space = 10   # no. cells to skip from boundaries - removes BC artifacts\n",
    "\n",
    "from wakis.sources import Beam\n",
    "from scipy.constants import c\n",
    "beam = Beam(q=q, sigmaz=sigmaz, beta=beta,\n",
    "            xsource=xs, ysource=ys, ti=3*sigmaz/c)"
   ]
  },
  {
   "cell_type": "code",
   "execution_count": 9,
   "metadata": {},
   "outputs": [],
   "source": [
    "%%px\n",
    "def communicate_ghost_cells():\n",
    "    if rank > 0:\n",
    "        for d in ['x','y','z']:\n",
    "            comm.Sendrecv(solver.E[:, :, 1,d], \n",
    "                        recvbuf=solver.E[:, :, 0,d],\n",
    "                        dest=rank-1, sendtag=0,\n",
    "                        source=rank-1, recvtag=1)\n",
    "\n",
    "            comm.Sendrecv(solver.H[:, :, 1,d], \n",
    "                        recvbuf=solver.H[:, :, 0,d],\n",
    "                        dest=rank-1, sendtag=0,\n",
    "                        source=rank-1, recvtag=1)\n",
    "            \n",
    "            comm.Sendrecv(solver.J[:, :, 1,d], \n",
    "                        recvbuf=solver.J[:, :, 0,d],\n",
    "                        dest=rank-1, sendtag=0,\n",
    "                        source=rank-1, recvtag=1)\n",
    "            \n",
    "    if rank < size - 1:\n",
    "        for d in ['x','y','z']:\n",
    "            comm.Sendrecv(solver.E[:, :, -2,d], \n",
    "                          recvbuf=solver.E[:, :, -1, d], \n",
    "                          dest=rank+1, sendtag=1,\n",
    "                          source=rank+1, recvtag=0)\n",
    "            \n",
    "            comm.Sendrecv(solver.H[:, :, -2,d], \n",
    "                          recvbuf=solver.H[:, :, -1, d], \n",
    "                          dest=rank+1, sendtag=1,\n",
    "                          source=rank+1, recvtag=0)\n",
    "            \n",
    "            comm.Sendrecv(solver.J[:, :, -2,d], \n",
    "                          recvbuf=solver.J[:, :, -1, d], \n",
    "                          dest=rank+1, sendtag=1,\n",
    "                          source=rank+1, recvtag=0)\n"
   ]
  },
  {
   "cell_type": "code",
   "execution_count": 10,
   "metadata": {},
   "outputs": [],
   "source": [
    "%%px\n",
    "def compose_field_E(d='z'):\n",
    "    global E\n",
    "    local = solver.E[Nx//2, :, :,d].ravel()\n",
    "    buffer = comm.gather(local, root=0)\n",
    "\n",
    "    if rank == 0:\n",
    "        E = np.zeros((Ny, Nz))  # Reinitialize global array\n",
    "        for r in range(size):\n",
    "            E[:, r*Nz_mpi:(r+1)*Nz_mpi] = np.reshape(buffer[r], (Ny, Nz_mpi))"
   ]
  },
  {
   "cell_type": "code",
   "execution_count": 11,
   "metadata": {},
   "outputs": [],
   "source": [
    "%%px\n",
    "def compose_field_H(d='z'):\n",
    "    global H\n",
    "    local = solver.H[Nx//2, :, :,d].ravel()\n",
    "    buffer = comm.gather(local, root=0)\n",
    "\n",
    "    if rank == 0:\n",
    "        H = np.zeros((Ny, Nz))\n",
    "        for r in range(size):\n",
    "            H[:, r*Nz_mpi:(r+1)*Nz_mpi] = np.reshape(buffer[r], (Ny, Nz_mpi))"
   ]
  },
  {
   "cell_type": "code",
   "execution_count": 12,
   "metadata": {},
   "outputs": [],
   "source": [
    "%%px\n",
    "def compose_field_J(d='z'):\n",
    "    global J\n",
    "    local = solver.J[Nx//2, :, :,d].ravel()\n",
    "    buffer = comm.gather(local, root=0)\n",
    "\n",
    "    if rank == 0:\n",
    "        J = np.zeros((Ny, Nz))\n",
    "        for r in range(size):\n",
    "            J[:, r*Nz_mpi:(r+1)*Nz_mpi] = np.reshape(buffer[r], (Ny, Nz_mpi))"
   ]
  },
  {
   "cell_type": "code",
   "execution_count": 13,
   "metadata": {},
   "outputs": [],
   "source": [
    "%%px\n",
    "def compose_field(field, d='z'):\n",
    "\n",
    "    if field == 'E':\n",
    "        local = solver.E[Nx//2, :, :,d].ravel()\n",
    "    elif field == 'H':\n",
    "        local = solver.H[Nx//2, :, :,d].ravel()\n",
    "    elif field == 'J':\n",
    "        local = solver.J[Nx//2, :, :,d].ravel()\n",
    "\n",
    "    buffer = comm.gather(local, root=0)\n",
    "    field = None\n",
    "\n",
    "    if rank == 0:\n",
    "        field = np.zeros((Ny, Nz))  # Reinitialize global array\n",
    "        for r in range(size):\n",
    "            field[:, r*Nz_mpi:(r+1)*Nz_mpi] = np.reshape(buffer[r], (Ny, Nz_mpi))\n",
    "    \n",
    "    return field"
   ]
  },
  {
   "cell_type": "code",
   "execution_count": 14,
   "metadata": {},
   "outputs": [],
   "source": [
    "%%px\n",
    "def plot_field(field, name='E', n=None, results_folder='img/'):\n",
    "    extent = (zmin, zmax, ymin, ymax)\n",
    "    fig, ax = plt.subplots()\n",
    "    im = ax.imshow(field, cmap='bwr', extent=extent, vmin=-500, vmax=500)\n",
    "    fig.colorbar(im, cax=make_axes_locatable(ax).append_axes('right', size='5%', pad=0.05))\n",
    "    ax.set_title(f'{name} at timestep={n}')\n",
    "    ax.set_xlabel('z [m]')\n",
    "    ax.set_ylabel('y [m]')\n",
    "\n",
    "    fig.tight_layout(h_pad=0.3)\n",
    "    fig.savefig(results_folder+name+str(n).zfill(4)+'.png')\n",
    "    plt.close(fig)"
   ]
  },
  {
   "cell_type": "code",
   "execution_count": 15,
   "metadata": {},
   "outputs": [],
   "source": [
    "%%px\n",
    "n = 0\n",
    "solver.reset_fields()"
   ]
  },
  {
   "cell_type": "code",
   "execution_count": null,
   "metadata": {},
   "outputs": [
    {
     "data": {
      "application/vnd.jupyter.widget-view+json": {
       "model_id": "d1576fd3ac664a63b5d15f8905054d69",
       "version_major": 2,
       "version_minor": 0
      },
      "text/plain": [
       "%px:   0%|          | 0/4 [00:00<?, ?tasks/s]"
      ]
     },
     "metadata": {},
     "output_type": "display_data"
    }
   ],
   "source": [
    "%%px\n",
    "Nt = 3000\n",
    "for n in tqdm(range(Nt)):\n",
    "    beam.update_mpi(solver, n*solver.dt, zmin)\n",
    "\n",
    "    solver.one_step()\n",
    "\n",
    "    communicate_ghost_cells()\n",
    "\n",
    "    if n%20 == 0:\n",
    "        Ez = compose_field('E')\n",
    "        if rank == 0:\n",
    "            plot_field(Ez, 'Ez', n=n, results_folder=img_folder)"
   ]
  },
  {
   "cell_type": "code",
   "execution_count": null,
   "metadata": {},
   "outputs": [],
   "source": [
    "%%px\n",
    "compose_field_E()\n",
    "if rank == 0:\n",
    "    plt.imshow(E)"
   ]
  },
  {
   "cell_type": "code",
   "execution_count": null,
   "metadata": {},
   "outputs": [],
   "source": [
    "%%px\n",
    "compose_field_H()\n",
    "if rank == 0:\n",
    "    plt.imshow(H)"
   ]
  },
  {
   "cell_type": "code",
   "execution_count": null,
   "metadata": {},
   "outputs": [],
   "source": [
    "%%px\n",
    "compose_field_J()\n",
    "if rank == 0:\n",
    "    plt.imshow(J)"
   ]
  },
  {
   "cell_type": "code",
   "execution_count": null,
   "metadata": {},
   "outputs": [],
   "source": []
  }
 ],
 "metadata": {
  "kernelspec": {
   "display_name": "wakis-mpi",
   "language": "python",
   "name": "python3"
  },
  "language_info": {
   "codemirror_mode": {
    "name": "ipython",
    "version": 3
   },
   "file_extension": ".py",
   "mimetype": "text/x-python",
   "name": "python",
   "nbconvert_exporter": "python",
   "pygments_lexer": "ipython3",
   "version": "3.11.11"
  }
 },
 "nbformat": 4,
 "nbformat_minor": 2
}

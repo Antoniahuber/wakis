{
 "cells": [
  {
   "cell_type": "markdown",
   "metadata": {},
   "source": [
    "## Dipolar Wakefield simulation of the LHC unshielded bellows with `wakis`\n",
    "\n",
    "* Creation of the geometry from simple geometry blocks (CSG) -> fully parametrized\n",
    "* Simulation of the Dipolar X impedance and wake\n",
    "  \n",
    "| Wake | Impedance |\n",
    "| --- | ---------- |\n",
    "|     |            | "
   ]
  },
  {
   "cell_type": "code",
   "execution_count": 1,
   "metadata": {},
   "outputs": [],
   "source": [
    "import numpy as np\n",
    "import pyvista as pv\n",
    "import matplotlib.pyplot as plt\n",
    "\n",
    "from wakis import SolverFIT3D\n",
    "from wakis import GridFIT3D \n",
    "from wakis import WakeSolver\n",
    "\n",
    "%matplotlib ipympl"
   ]
  },
  {
   "cell_type": "markdown",
   "metadata": {},
   "source": [
    "### Geometry generation using Constructive Solid Geometry (CSG)"
   ]
  },
  {
   "cell_type": "code",
   "execution_count": 2,
   "metadata": {},
   "outputs": [],
   "source": [
    "# beam pipe\n",
    "r_pipe = 24e-3      # pipe radius [m]\n",
    "l_pipe = 320e-3     # pipe length [m]\n",
    "pipe = pv.Cylinder(center=(0,0,0), direction=(0,0,1), radius=r_pipe, height=l_pipe)\n",
    "\n",
    "# convolutions\n",
    "r_conv = 30e-3  # convolution radius [m]\n",
    "l_conv = 4e-3  # length of each convolution [m]\n",
    "n_conv = 15      # number of convolutions\n",
    "l_between_conv = 4e-3  # length between convolutions [m]\n",
    "z_start = n_conv//2*(l_conv + l_between_conv) - l_conv # start of the convolutions [m]\n",
    "convolutions = []\n",
    "\n",
    "for n in range(n_conv):\n",
    "    z_start_n_conv = -z_start+n*(l_conv+l_between_conv)\n",
    "    conv = pv.Cylinder(center=(0,0,z_start_n_conv),     # center of the convolution\n",
    "                       direction=(0,0,1),  # z-direction\n",
    "                       radius=r_conv, \n",
    "                       height=l_conv)\n",
    "    convolutions.append(conv)  # append to list\n",
    "\n",
    "# Sum the generated geometry\n",
    "pipe = pipe.triangulate()                          # triangulate pipe\n",
    "convolutions = np.sum(convolutions).triangulate()  # triangulate convolutions\n",
    "bellow = pipe + convolutions  # union of meshes without internal faces\n",
    "\n",
    "# Save it to file\n",
    "stl_file = 'notebooks/data/006_LHC_Bellow_generated.stl'\n",
    "bellow.save(stl_file) #save in [m]\n",
    "# bellow.scale(1e3).save(stl_file) #save in [mm]\n",
    "\n",
    "# Plot the generated geometry\n",
    "bellow.clear_data()   \n",
    "#bellow.plot(opacity=0.7)"
   ]
  },
  {
   "cell_type": "markdown",
   "metadata": {},
   "source": [
    "### Domain setup and grid generation"
   ]
  },
  {
   "cell_type": "code",
   "execution_count": 3,
   "metadata": {},
   "outputs": [
    {
     "name": "stdout",
     "output_type": "stream",
     "text": [
      "Total number of mesh cells: 792000\n",
      "Generating grid...\n",
      "Applying mesh refinement...\n",
      "* Calculating snappy points...\n",
      "* Refining x axis with 5 snaps...\n",
      "Both `ftol` and `xtol` termination conditions are satisfied.\n",
      "Function evaluations 25, initial cost 3.8333e-04, final cost 1.8979e-05, first-order optimality 5.88e-04.\n",
      "* Refining y axis with 5 snaps...\n",
      "Both `ftol` and `xtol` termination conditions are satisfied.\n",
      "Function evaluations 25, initial cost 3.8333e-04, final cost 1.8979e-05, first-order optimality 5.88e-04.\n",
      "* Refining z axis with 32 snaps...\n",
      "`ftol` termination condition is satisfied.\n",
      "Function evaluations 4293, initial cost 1.0298e-04, final cost 3.3198e-05, first-order optimality 1.06e-06.\n",
      "Refined grid: Nx = 59, Ny =59, Nz = 219\n",
      "Importing STL solids...\n"
     ]
    }
   ],
   "source": [
    "# ---------- Domain setup ---------\n",
    "# Set up geometry & materials dictionaries\n",
    "stl_solids = {'bellow': stl_file}\n",
    "stl_materials = {'bellow': 'vacuum'}\n",
    "\n",
    "# Domain bounds\n",
    "xmin, xmax, ymin, ymax, zmin, zmax = bellow.bounds\n",
    "\n",
    "# Number of mesh cells\n",
    "Nx = 60\n",
    "Ny = 60\n",
    "Nz = 220\n",
    "print(f'Total number of mesh cells: {Nx*Ny*Nz}')\n",
    "\n",
    "# set grid and geometry\n",
    "grid = GridFIT3D(xmin, xmax, ymin, ymax, zmin, zmax, Nx, Ny, Nz, \n",
    "                stl_solids=stl_solids, \n",
    "                stl_materials=stl_materials,\n",
    "                use_mesh_refinement=True,\n",
    "                refinement_tol=1e-8,)"
   ]
  },
  {
   "cell_type": "code",
   "execution_count": null,
   "metadata": {},
   "outputs": [
    {
     "data": {
      "application/vnd.jupyter.widget-view+json": {
       "model_id": "6847c4ddff224033ad4233c39e9d8464",
       "version_major": 2,
       "version_minor": 0
      },
      "text/plain": [
       "Widget(value='<iframe src=\"http://localhost:37263/index.html?ui=P_0x78ec00708990_0&reconnect=auto\" class=\"pyvi…"
      ]
     },
     "metadata": {},
     "output_type": "display_data"
    },
    {
     "name": "stderr",
     "output_type": "stream",
     "text": [
      "Exception raised\n",
      "ConnectionResetError('Cannot write to closing transport')\n",
      "Traceback (most recent call last):\n",
      "  File \"/home/edelafue/miniconda3/envs/wakis-env/lib/python3.11/site-packages/wslink/protocol.py\", line 317, in onCompleteMessage\n",
      "    await self.sendWrappedMessage(\n",
      "  File \"/home/edelafue/miniconda3/envs/wakis-env/lib/python3.11/site-packages/wslink/protocol.py\", line 418, in sendWrappedMessage\n",
      "    await ws.send_bytes(chunk)\n",
      "  File \"/home/edelafue/miniconda3/envs/wakis-env/lib/python3.11/site-packages/aiohttp/web_ws.py\", line 342, in send_bytes\n",
      "    await self._writer.send(data, binary=True, compress=compress)\n",
      "  File \"/home/edelafue/miniconda3/envs/wakis-env/lib/python3.11/site-packages/aiohttp/http_websocket.py\", line 727, in send\n",
      "    await self._send_frame(message, WSMsgType.BINARY, compress)\n",
      "  File \"/home/edelafue/miniconda3/envs/wakis-env/lib/python3.11/site-packages/aiohttp/http_websocket.py\", line 682, in _send_frame\n",
      "    self._write(header + message)\n",
      "  File \"/home/edelafue/miniconda3/envs/wakis-env/lib/python3.11/site-packages/aiohttp/http_websocket.py\", line 702, in _write\n",
      "    raise ConnectionResetError(\"Cannot write to closing transport\")\n",
      "ConnectionResetError: Cannot write to closing transport\n",
      "\n",
      "Error handling request\n",
      "Traceback (most recent call last):\n",
      "  File \"/home/edelafue/miniconda3/envs/wakis-env/lib/python3.11/site-packages/wslink/protocol.py\", line 317, in onCompleteMessage\n",
      "    await self.sendWrappedMessage(\n",
      "  File \"/home/edelafue/miniconda3/envs/wakis-env/lib/python3.11/site-packages/wslink/protocol.py\", line 418, in sendWrappedMessage\n",
      "    await ws.send_bytes(chunk)\n",
      "  File \"/home/edelafue/miniconda3/envs/wakis-env/lib/python3.11/site-packages/aiohttp/web_ws.py\", line 342, in send_bytes\n",
      "    await self._writer.send(data, binary=True, compress=compress)\n",
      "  File \"/home/edelafue/miniconda3/envs/wakis-env/lib/python3.11/site-packages/aiohttp/http_websocket.py\", line 727, in send\n",
      "    await self._send_frame(message, WSMsgType.BINARY, compress)\n",
      "  File \"/home/edelafue/miniconda3/envs/wakis-env/lib/python3.11/site-packages/aiohttp/http_websocket.py\", line 682, in _send_frame\n",
      "    self._write(header + message)\n",
      "  File \"/home/edelafue/miniconda3/envs/wakis-env/lib/python3.11/site-packages/aiohttp/http_websocket.py\", line 702, in _write\n",
      "    raise ConnectionResetError(\"Cannot write to closing transport\")\n",
      "ConnectionResetError: Cannot write to closing transport\n",
      "\n",
      "During handling of the above exception, another exception occurred:\n",
      "\n",
      "Traceback (most recent call last):\n",
      "  File \"/home/edelafue/miniconda3/envs/wakis-env/lib/python3.11/site-packages/aiohttp/web_protocol.py\", line 452, in _handle_request\n",
      "    resp = await request_handler(request)\n",
      "           ^^^^^^^^^^^^^^^^^^^^^^^^^^^^^^\n",
      "  File \"/home/edelafue/miniconda3/envs/wakis-env/lib/python3.11/site-packages/aiohttp/web_app.py\", line 543, in _handle\n",
      "    resp = await handler(request)\n",
      "           ^^^^^^^^^^^^^^^^^^^^^^\n",
      "  File \"/home/edelafue/miniconda3/envs/wakis-env/lib/python3.11/site-packages/wslink/backends/aiohttp/__init__.py\", line 234, in handleWsRequest\n",
      "    await self.onMessage(is_binary(msg), msg, client_id)\n",
      "  File \"/home/edelafue/miniconda3/envs/wakis-env/lib/python3.11/site-packages/wslink/protocol.py\", line 260, in onMessage\n",
      "    await self.onCompleteMessage(full_message, client_id)\n",
      "  File \"/home/edelafue/miniconda3/envs/wakis-env/lib/python3.11/site-packages/wslink/protocol.py\", line 325, in onCompleteMessage\n",
      "    await self.sendWrappedError(\n",
      "  File \"/home/edelafue/miniconda3/envs/wakis-env/lib/python3.11/site-packages/wslink/protocol.py\", line 450, in sendWrappedError\n",
      "    await ws.send_bytes(chunk)\n",
      "  File \"/home/edelafue/miniconda3/envs/wakis-env/lib/python3.11/site-packages/aiohttp/web_ws.py\", line 342, in send_bytes\n",
      "    await self._writer.send(data, binary=True, compress=compress)\n",
      "  File \"/home/edelafue/miniconda3/envs/wakis-env/lib/python3.11/site-packages/aiohttp/http_websocket.py\", line 727, in send\n",
      "    await self._send_frame(message, WSMsgType.BINARY, compress)\n",
      "  File \"/home/edelafue/miniconda3/envs/wakis-env/lib/python3.11/site-packages/aiohttp/http_websocket.py\", line 682, in _send_frame\n",
      "    self._write(header + message)\n",
      "  File \"/home/edelafue/miniconda3/envs/wakis-env/lib/python3.11/site-packages/aiohttp/http_websocket.py\", line 702, in _write\n",
      "    raise ConnectionResetError(\"Cannot write to closing transport\")\n",
      "ConnectionResetError: Cannot write to closing transport\n"
     ]
    }
   ],
   "source": [
    "grid.inspect()"
   ]
  },
  {
   "cell_type": "markdown",
   "metadata": {},
   "source": [
    "### Boundary conditions and EM solver"
   ]
  },
  {
   "cell_type": "code",
   "execution_count": 5,
   "metadata": {},
   "outputs": [
    {
     "name": "stdout",
     "output_type": "stream",
     "text": [
      "Assembling operator matrices...\n",
      "Applying boundary conditions...\n",
      "Adding material tensors...\n",
      "Filling PML sigmas...\n",
      "Calculating maximal stable timestep...\n",
      "Pre-computing...\n",
      "Total initialization time: 0.8114991188049316 s\n"
     ]
    }
   ],
   "source": [
    "# boundary conditions\n",
    "bc_low=['pec', 'pec', 'pml']\n",
    "bc_high=['pec', 'pec', 'pml']\n",
    "\n",
    "n_pml = 10 # number of PML layers\n",
    "solver = SolverFIT3D(grid, \n",
    "                     bc_low=bc_low, bc_high=bc_high, \n",
    "                     use_stl=True, bg='pec',\n",
    "                     n_pml=n_pml)"
   ]
  },
  {
   "cell_type": "markdown",
   "metadata": {},
   "source": [
    "### Wakefield settings & Run"
   ]
  },
  {
   "cell_type": "markdown",
   "metadata": {},
   "source": [
    "The wakefield simulation will run up to 10 m which will give a partially decayed wake and a non-converged impedance - this will be the starting point of IDDEFIX extrapolation !"
   ]
  },
  {
   "cell_type": "code",
   "execution_count": null,
   "metadata": {},
   "outputs": [],
   "source": [
    "# ------------ Beam source ----------------\n",
    "# Beam parameters\n",
    "sigmaz = 10e-3      #[m] -> 2 GHz\n",
    "q = 1e-9            #[C]\n",
    "beta = 1.0          # beam beta \n",
    "xs = 5e-3           # x source position [m]\n",
    "ys = 0.             # y source position [m]\n",
    "xt = 0.             # x test position [m]\n",
    "yt = 0.             # y test position [m]\n",
    "# [DEFAULT] tinj = 8.53*sigmaz/c_light  # injection time offset [s] \n",
    "\n",
    "# ----------- Solver  setup  ----------\n",
    "# Wakefield post-processor\n",
    "wakelength = 10. # [m] -> Partially decayed\n",
    "skip_cells = n_pml + 2  # no. cells to skip from wake integration (>= PML cells)\n",
    "\n",
    "results_folder = 'notebooks/006_results/'\n",
    "wake = WakeSolver(q=q, sigmaz=sigmaz, beta=beta,\n",
    "                xsource=xs, ysource=ys, xtest=xt, ytest=yt,\n",
    "                skip_cells=skip_cells, wakelength=wakelength,\n",
    "                results_folder=results_folder,\n",
    "                Ez_file=results_folder+'Ez.h5',)"
   ]
  },
  {
   "cell_type": "code",
   "execution_count": null,
   "metadata": {},
   "outputs": [],
   "source": [
    "# Plot settings\n",
    "import os\n",
    "if not os.path.exists(results_folder+'img/'): os.mkdir(results_folder+'img/')\n",
    "plotkw = {'title':results_folder+'img/Ez', \n",
    "            'add_patch':'bellow', 'patch_alpha':0.3,\n",
    "            'vmin':-1e4, 'vmax':1e4,\n",
    "            'plane': [int(Nx/2), slice(0, Ny), slice(0, Nz)],}\n",
    "\n",
    "solver.wakesolve(wakelength=wakelength, \n",
    "                 wake=wake, \n",
    "                 plot=False,\n",
    "                 plot_every=50, \n",
    "                 plot_until=5000,\n",
    "                 **plotkw)"
   ]
  },
  {
   "cell_type": "code",
   "execution_count": null,
   "metadata": {},
   "outputs": [
    {
     "name": "stdout",
     "output_type": "stream",
     "text": [
      "Running electromagnetic time-domain simulation...\n"
     ]
    },
    {
     "name": "stderr",
     "output_type": "stream",
     "text": [
      " 55%|█████▌    | 19492/35138 [15:06<11:00, 23.68it/s] "
     ]
    }
   ],
   "source": [
    "solver.wakesolve(wakelength=wakelength, \n",
    "                 wake=wake, \n",
    "                 plot=False)"
   ]
  },
  {
   "cell_type": "markdown",
   "metadata": {},
   "source": [
    "Or, if results have already been generated:"
   ]
  },
  {
   "cell_type": "code",
   "execution_count": null,
   "metadata": {},
   "outputs": [],
   "source": [
    "wake.load_results(results_folder)\n",
    "\n",
    "# Modify the number of cells skip from the boundary during integration\n",
    "# to aboid boundary artifacts -useful in low impedance devices!\n",
    "wake.skip_cells = 30\n",
    "wake.solve()"
   ]
  },
  {
   "cell_type": "markdown",
   "metadata": {},
   "source": [
    "It's done! Now we can plot the results:"
   ]
  },
  {
   "cell_type": "code",
   "execution_count": null,
   "metadata": {},
   "outputs": [],
   "source": [
    "# Plot longitudinal wake potential and impedance\n",
    "fig1, ax = plt.subplots(1,2, figsize=[12,4], dpi=150)\n",
    "ax[0].plot(wake.s*1e2, wake.WP, c='tab:red', lw=1.5, label='Wakis')\n",
    "ax[0].set_xlabel('s [cm]')\n",
    "ax[0].set_ylabel('Longitudinal wake potential [V/pC]', color='tab:red')\n",
    "ax[0].legend()\n",
    "ax[0].set_xlim(xmax=wakelength*1e2)\n",
    "\n",
    "ax[1].plot(wake.f*1e-9, np.abs(wake.Z), c='tab:blue', alpha=0.8, lw=2, label='Abs')\n",
    "ax[1].plot(wake.f*1e-9, np.real(wake.Z), ls='--', c='tab:blue', lw=1.5, label='Real')\n",
    "ax[1].plot(wake.f*1e-9, np.imag(wake.Z), ls=':', c='tab:blue', lw=1.5, label='Imag')\n",
    "ax[1].set_xlabel('f [GHz]')\n",
    "ax[1].set_ylabel('Longitudinal impedance [Abs][$\\Omega$]', color='tab:blue')\n",
    "ax[1].legend()\n",
    "\n",
    "fig1.tight_layout()\n",
    "fig1.savefig(results_folder+'longitudinal.png')\n",
    "#plt.show()"
   ]
  },
  {
   "cell_type": "code",
   "execution_count": null,
   "metadata": {},
   "outputs": [],
   "source": [
    "# Plot transverse x wake potential and impedance\n",
    "fig2, ax = plt.subplots(1,2, figsize=[12,4], dpi=150)\n",
    "ax[0].plot(wake.s*1e2, wake.WPx, c='tab:orange', lw=1.5, label='Wakis')\n",
    "ax[0].set_xlabel('s [cm]')\n",
    "ax[0].set_ylabel('Transverse wake potential X [V/pC]', color='tab:orange')\n",
    "ax[0].legend()\n",
    "ax[0].set_xlim(xmax=wakelength*1e2)\n",
    "\n",
    "ax[1].plot(wake.f*1e-9, np.abs(wake.Zx), c='tab:green', lw=2, label='Abs')\n",
    "ax[1].plot(wake.f*1e-9, np.real(wake.Zx), c='tab:green', ls='--', lw=1.5, label='Real')\n",
    "ax[1].plot(wake.f*1e-9, np.imag(wake.Zx), c='tab:green', ls=':', lw=1.5, label='Imag')\n",
    "ax[1].set_xlabel('f [GHz]')\n",
    "ax[1].set_ylabel('Transverse impedance X [Abs][$\\Omega$]', color='tab:green')\n",
    "ax[1].legend()\n",
    "\n",
    "fig2.tight_layout()\n",
    "fig2.savefig(results_folder+'transverse_x.png')\n",
    "#plt.show()"
   ]
  },
  {
   "cell_type": "code",
   "execution_count": null,
   "metadata": {},
   "outputs": [],
   "source": [
    "# Plot transverse y wake potential and impedance\n",
    "fig3, ax = plt.subplots(1,2, figsize=[12,4], dpi=150)\n",
    "ax[0].plot(wake.s*1e2, wake.WPy, c='tab:brown', lw=1.5, label='Wakis')\n",
    "ax[0].set_xlabel('s [cm]')\n",
    "ax[0].set_ylabel('Transverse wake potential Y [V/pC]', color='tab:brown')\n",
    "ax[0].legend()\n",
    "ax[0].set_xlim(xmax=wakelength*1e2)\n",
    "\n",
    "ax[1].plot(wake.f*1e-9, np.abs(wake.Zy), c='tab:pink', lw=2, label='Abs')\n",
    "ax[1].plot(wake.f*1e-9, np.real(wake.Zy), c='tab:pink', ls='--', lw=1.5, label='Real')\n",
    "ax[1].plot(wake.f*1e-9, np.imag(wake.Zy), c='tab:pink', ls=':', lw=1.5, label='Imag')\n",
    "ax[1].set_xlabel('f [GHz]')\n",
    "ax[1].set_ylabel('Transverse impedance Y [Abs][$\\Omega$]', color='tab:pink')\n",
    "ax[1].legend()\n",
    "\n",
    "fig3.tight_layout()\n",
    "fig3.savefig(results_folder+'transverse_y.png')\n",
    "#plt.show()"
   ]
  }
 ],
 "metadata": {
  "kernelspec": {
   "display_name": "wakis-env",
   "language": "python",
   "name": "python3"
  },
  "language_info": {
   "codemirror_mode": {
    "name": "ipython",
    "version": 3
   },
   "file_extension": ".py",
   "mimetype": "text/x-python",
   "name": "python",
   "nbconvert_exporter": "python",
   "pygments_lexer": "ipython3",
   "version": "3.11.8"
  }
 },
 "nbformat": 4,
 "nbformat_minor": 2
}

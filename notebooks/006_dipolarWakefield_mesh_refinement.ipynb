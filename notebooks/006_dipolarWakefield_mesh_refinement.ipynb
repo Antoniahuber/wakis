{
 "cells": [
  {
   "cell_type": "markdown",
   "metadata": {},
   "source": [
    "## Dipolar Wakefield simulation of the LHC unshielded bellows with `wakis`\n",
    "\n",
    "* Creation of the geometry from simple geometry blocks (CSG) -> fully parametrized\n",
    "* Simulation of the Dipolar X impedance and wake\n",
    "  \n",
    "| Wake | Impedance |\n",
    "| --- | ---------- |\n",
    "|     |            | "
   ]
  },
  {
   "cell_type": "code",
   "execution_count": 22,
   "metadata": {},
   "outputs": [],
   "source": [
    "import numpy as np\n",
    "import pyvista as pv\n",
    "import matplotlib.pyplot as plt\n",
    "\n",
    "from wakis import SolverFIT3D\n",
    "from wakis import GridFIT3D \n",
    "from wakis import WakeSolver\n",
    "\n",
    "%matplotlib ipympl"
   ]
  },
  {
   "cell_type": "markdown",
   "metadata": {},
   "source": [
    "### Geometry generation using Constructive Solid Geometry (CSG)"
   ]
  },
  {
   "cell_type": "code",
   "execution_count": 23,
   "metadata": {},
   "outputs": [],
   "source": [
    "# beam pipe\n",
    "r_pipe = 24e-3      # pipe radius [m]\n",
    "l_pipe = 320e-3     # pipe length [m]\n",
    "pipe = pv.Cylinder(center=(0,0,0), direction=(0,0,1), radius=r_pipe, height=l_pipe)\n",
    "\n",
    "# convolutions\n",
    "r_conv = 30e-3  # convolution radius [m]\n",
    "l_conv = 4e-3  # length of each convolution [m]\n",
    "n_conv = 15      # number of convolutions\n",
    "l_between_conv = 4e-3  # length between convolutions [m]\n",
    "z_start = n_conv//2*(l_conv + l_between_conv) - l_conv # start of the convolutions [m]\n",
    "convolutions = []\n",
    "\n",
    "for n in range(n_conv):\n",
    "    z_start_n_conv = -z_start+n*(l_conv+l_between_conv)\n",
    "    conv = pv.Cylinder(center=(0,0,z_start_n_conv),     # center of the convolution\n",
    "                       direction=(0,0,1),  # z-direction\n",
    "                       radius=r_conv, \n",
    "                       height=l_conv)\n",
    "    convolutions.append(conv)  # append to list\n",
    "\n",
    "# Sum the generated geometry\n",
    "pipe = pipe.triangulate()                          # triangulate pipe\n",
    "convolutions = np.sum(convolutions).triangulate()  # triangulate convolutions\n",
    "bellow = pipe + convolutions  # union of meshes without internal faces\n",
    "\n",
    "# Save it to file\n",
    "stl_file = 'notebooks/data/006_LHC_Bellow_generated.stl'\n",
    "bellow.save(stl_file) #save in [m]\n",
    "# bellow.scale(1e3).save(stl_file) #save in [mm]\n",
    "\n",
    "# Plot the generated geometry\n",
    "bellow.clear_data()   \n",
    "#bellow.plot(opacity=0.7)"
   ]
  },
  {
   "cell_type": "markdown",
   "metadata": {},
   "source": [
    "### Domain setup and grid generation"
   ]
  },
  {
   "cell_type": "code",
   "execution_count": null,
   "metadata": {},
   "outputs": [
    {
     "name": "stdout",
     "output_type": "stream",
     "text": [
      "Total number of mesh cells: 792000\n",
      "Generating grid...\n",
      "Applying mesh refinement...\n",
      "* Calculating snappy points...\n",
      "* Refining x axis with 5 snaps...\n",
      "Both `ftol` and `xtol` termination conditions are satisfied.\n",
      "Function evaluations 25, initial cost 3.8333e-04, final cost 1.8979e-05, first-order optimality 5.88e-04.\n",
      "* Refining y axis with 5 snaps...\n",
      "Both `ftol` and `xtol` termination conditions are satisfied.\n",
      "Function evaluations 25, initial cost 3.8333e-04, final cost 1.8979e-05, first-order optimality 5.88e-04.\n",
      "* Refining z axis with 32 snaps...\n"
     ]
    }
   ],
   "source": [
    "# ---------- Domain setup ---------\n",
    "# Set up geometry & materials dictionaries\n",
    "stl_solids = {'bellow': stl_file}\n",
    "stl_materials = {'bellow': 'vacuum'}\n",
    "\n",
    "# Domain bounds\n",
    "xmin, xmax, ymin, ymax, zmin, zmax = bellow.bounds\n",
    "\n",
    "# Number of mesh cells\n",
    "Nx = 60\n",
    "Ny = 60\n",
    "Nz = 220\n",
    "print(f'Total number of mesh cells: {Nx*Ny*Nz}')\n",
    "\n",
    "# set grid and geometry\n",
    "grid = GridFIT3D(xmin, xmax, ymin, ymax, zmin, zmax, Nx, Ny, Nz, \n",
    "                stl_solids=stl_solids, \n",
    "                stl_materials=stl_materials,\n",
    "                use_mesh_refinement=True,\n",
    "                refinement_tol=1e-8,)"
   ]
  },
  {
   "cell_type": "code",
   "execution_count": null,
   "metadata": {},
   "outputs": [],
   "source": [
    "grid.inspect()"
   ]
  },
  {
   "cell_type": "markdown",
   "metadata": {},
   "source": [
    "### Boundary conditions and EM solver"
   ]
  },
  {
   "cell_type": "code",
   "execution_count": null,
   "metadata": {},
   "outputs": [],
   "source": [
    "# boundary conditions\n",
    "bc_low=['pec', 'pec', 'pml']\n",
    "bc_high=['pec', 'pec', 'pml']\n",
    "\n",
    "n_pml = 10 # number of PML layers\n",
    "solver = SolverFIT3D(grid, \n",
    "                     bc_low=bc_low, bc_high=bc_high, \n",
    "                     use_stl=True, bg='pec',\n",
    "                     n_pml=n_pml)"
   ]
  },
  {
   "cell_type": "markdown",
   "metadata": {},
   "source": [
    "### Wakefield settings & Run"
   ]
  },
  {
   "cell_type": "markdown",
   "metadata": {},
   "source": [
    "The wakefield simulation will run up to 10 m which will give a partially decayed wake and a non-converged impedance - this will be the starting point of IDDEFIX extrapolation !"
   ]
  },
  {
   "cell_type": "code",
   "execution_count": null,
   "metadata": {},
   "outputs": [],
   "source": [
    "# ------------ Beam source ----------------\n",
    "# Beam parameters\n",
    "sigmaz = 10e-3      #[m] -> 2 GHz\n",
    "q = 1e-9            #[C]\n",
    "beta = 1.0          # beam beta \n",
    "xs = 5e-3           # x source position [m]\n",
    "ys = 0.             # y source position [m]\n",
    "xt = 0.             # x test position [m]\n",
    "yt = 0.             # y test position [m]\n",
    "# [DEFAULT] tinj = 8.53*sigmaz/c_light  # injection time offset [s] \n",
    "\n",
    "# ----------- Solver  setup  ----------\n",
    "# Wakefield post-processor\n",
    "wakelength = 10. # [m] -> Partially decayed\n",
    "skip_cells = n_pml + 2  # no. cells to skip from wake integration (>= PML cells)\n",
    "\n",
    "results_folder = 'notebooks/006_results/'\n",
    "wake = WakeSolver(q=q, sigmaz=sigmaz, beta=beta,\n",
    "                xsource=xs, ysource=ys, xtest=xt, ytest=yt,\n",
    "                skip_cells=skip_cells, wakelength=wakelength,\n",
    "                results_folder=results_folder,\n",
    "                Ez_file=results_folder+'Ez.h5',)"
   ]
  },
  {
   "cell_type": "code",
   "execution_count": null,
   "metadata": {},
   "outputs": [],
   "source": [
    "# Plot settings\n",
    "import os\n",
    "if not os.path.exists(results_folder+'img/'): os.mkdir(results_folder+'img/')\n",
    "plotkw = {'title':results_folder+'img/Ez', \n",
    "            'add_patch':'bellow', 'patch_alpha':0.3,\n",
    "            'vmin':-1e4, 'vmax':1e4,\n",
    "            'plane': [int(Nx/2), slice(0, Ny), slice(0, Nz)],}\n",
    "\n",
    "solver.wakesolve(wakelength=wakelength, \n",
    "                 wake=wake, \n",
    "                 plot=False,\n",
    "                 plot_every=50, \n",
    "                 plot_until=5000,\n",
    "                 **plotkw)"
   ]
  },
  {
   "cell_type": "markdown",
   "metadata": {},
   "source": [
    "Or, if results have already been generated:"
   ]
  },
  {
   "cell_type": "code",
   "execution_count": null,
   "metadata": {},
   "outputs": [],
   "source": [
    "wake.load_results(results_folder)\n",
    "\n",
    "# Modify the number of cells skip from the boundary during integration\n",
    "# to aboid boundary artifacts -useful in low impedance devices!\n",
    "wake.skip_cells = 30\n",
    "wake.solve()"
   ]
  },
  {
   "cell_type": "markdown",
   "metadata": {},
   "source": [
    "It's done! Now we can plot the results:"
   ]
  },
  {
   "cell_type": "code",
   "execution_count": null,
   "metadata": {},
   "outputs": [],
   "source": [
    "# Plot longitudinal wake potential and impedance\n",
    "fig1, ax = plt.subplots(2,1, figsize=[8,8], dpi=150)\n",
    "ax[0].plot(wake.s*1e2, wake.WP, c='tab:red', lw=1.5, label='Wakis')\n",
    "ax[0].set_xlabel('s [cm]')\n",
    "ax[0].set_ylabel('Longitudinal wake potential [V/pC]', color='tab:red')\n",
    "ax[0].legend()\n",
    "ax[0].set_xlim(xmax=wakelength*1e2)\n",
    "\n",
    "ax[1].plot(wake.f*1e-9, np.abs(wake.Z), c='tab:blue', alpha=0.8, lw=2, label='Abs')\n",
    "ax[1].plot(wake.f*1e-9, np.real(wake.Z), ls='--', c='tab:blue', lw=1.5, label='Real')\n",
    "ax[1].plot(wake.f*1e-9, np.imag(wake.Z), ls=':', c='tab:blue', lw=1.5, label='Imag')\n",
    "ax[1].set_xlabel('f [GHz]')\n",
    "ax[1].set_ylabel('Longitudinal impedance [Abs][$\\Omega$]', color='tab:blue')\n",
    "ax[1].legend()\n",
    "\n",
    "fig1.tight_layout()\n",
    "#fig1.savefig(results_folder+'longitudinal.png')\n",
    "#plt.show()"
   ]
  },
  {
   "cell_type": "code",
   "execution_count": null,
   "metadata": {},
   "outputs": [],
   "source": [
    "# Plot transverse x wake potential and impedance\n",
    "fig2, ax = plt.subplots(2,1, figsize=[8,8], dpi=150)\n",
    "ax[0].plot(wake.s*1e2, wake.WPx, c='tab:orange', lw=1.5, label='Wakis')\n",
    "ax[0].set_xlabel('s [cm]')\n",
    "ax[0].set_ylabel('Transverse wake potential X [V/pC]', color='tab:orange')\n",
    "ax[0].legend()\n",
    "ax[0].set_xlim(xmax=wakelength*1e2)\n",
    "\n",
    "ax[1].plot(wake.f*1e-9, np.abs(wake.Zx), c='tab:green', lw=2, label='Abs')\n",
    "ax[1].plot(wake.f*1e-9, np.real(wake.Zx), c='tab:green', ls='--', lw=1.5, label='Real')\n",
    "ax[1].plot(wake.f*1e-9, np.imag(wake.Zx), c='tab:green', ls=':', lw=1.5, label='Imag')\n",
    "ax[1].set_xlabel('f [GHz]')\n",
    "ax[1].set_ylabel('Transverse impedance X [Abs][$\\Omega$]', color='tab:green')\n",
    "ax[1].legend()\n",
    "\n",
    "fig2.tight_layout()\n",
    "#fig2.savefig(results_folder+'transverse_x.png')\n",
    "#plt.show()"
   ]
  },
  {
   "cell_type": "code",
   "execution_count": null,
   "metadata": {},
   "outputs": [],
   "source": [
    "# Plot transverse y wake potential and impedance\n",
    "fig3, ax = plt.subplots(2,1, figsize=[8,8], dpi=150)\n",
    "ax[0].plot(wake.s*1e2, wake.WPy, c='tab:brown', lw=1.5, label='Wakis')\n",
    "ax[0].set_xlabel('s [cm]')\n",
    "ax[0].set_ylabel('Transverse wake potential Y [V/pC]', color='tab:brown')\n",
    "ax[0].legend()\n",
    "ax[0].set_xlim(xmax=wakelength*1e2)\n",
    "\n",
    "ax[1].plot(wake.f*1e-9, np.abs(wake.Zy), c='tab:pink', lw=2, label='Abs')\n",
    "ax[1].plot(wake.f*1e-9, np.real(wake.Zy), c='tab:pink', ls='--', lw=1.5, label='Real')\n",
    "ax[1].plot(wake.f*1e-9, np.imag(wake.Zy), c='tab:pink', ls=':', lw=1.5, label='Imag')\n",
    "ax[1].set_xlabel('f [GHz]')\n",
    "ax[1].set_ylabel('Transverse impedance Y [Abs][$\\Omega$]', color='tab:pink')\n",
    "ax[1].legend()\n",
    "\n",
    "fig3.tight_layout()\n",
    "#fig3.savefig(results_folder+'transverse_y.png')\n",
    "#plt.show()"
   ]
  },
  {
   "cell_type": "markdown",
   "metadata": {},
   "source": [
    "### Compare with CST results"
   ]
  },
  {
   "cell_type": "code",
   "execution_count": null,
   "metadata": {},
   "outputs": [],
   "source": [
    "WP_cst = wake.read_txt('notebooks/data/006_CST_dipolar_x_wake.txt')\n",
    "Zx_cst = wake.read_txt('notebooks/data/006_CST_dipolar_x_impedance.txt')"
   ]
  },
  {
   "cell_type": "code",
   "execution_count": null,
   "metadata": {},
   "outputs": [],
   "source": [
    "fig, ax = plt.subplots(1,2, figsize=[12,4], dpi=100)\n",
    "\n",
    "ax[0].plot(WP_cst[0], WP_cst[1], c='k', lw=1.5, label='WPx CST')\n",
    "\n",
    "ax[0].plot(wake.s*1e3, wake.WPx, c='darkgreen', lw=1.5, alpha=0.5, label='WPx Wakis')\n",
    "ax[0].set_xlabel('s [mm]')\n",
    "ax[0].set_ylabel('Transverse wake potential X [V/pC]', color='darkgreen')\n",
    "\n",
    "ax[1].plot(Zx_cst[0], Zx_cst[1], c='k', lw=1.5, label='Re(Zx) CST')\n",
    "ax[1].plot(Zx_cst[0], Zx_cst[2], c='k', ls='--', lw=1.5, label='Im(Zx) CST')\n",
    "\n",
    "ax[1].plot(wake.f*1e-9, np.real(wake.Zx), c='g', alpha=0.5, lw=1.5, label='Re(Zx) Wakis')\n",
    "ax[1].plot(wake.f*1e-9, -1*np.imag(wake.Zx), c='g', ls='--', alpha=0.5, lw=1.5, label='Im(Zx) Wakis')\n",
    "ax[1].legend()\n",
    "ax[1].set_xlabel('f [GHz]')\n",
    "ax[1].set_ylabel('Transverse impedance X [Re/Im][$\\Omega$]', color='g')\n",
    "\n",
    "fig.tight_layout()"
   ]
  }
 ],
 "metadata": {
  "kernelspec": {
   "display_name": "wakis-env",
   "language": "python",
   "name": "python3"
  },
  "language_info": {
   "codemirror_mode": {
    "name": "ipython",
    "version": 3
   },
   "file_extension": ".py",
   "mimetype": "text/x-python",
   "name": "python",
   "nbconvert_exporter": "python",
   "pygments_lexer": "ipython3",
   "version": "3.11.8"
  }
 },
 "nbformat": 4,
 "nbformat_minor": 2
}
